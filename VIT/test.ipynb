{
  "nbformat": 4,
  "nbformat_minor": 0,
  "metadata": {
    "colab": {
      "provenance": [],
      "gpuType": "T4"
    },
    "kernelspec": {
      "name": "python3",
      "display_name": "Python 3"
    },
    "language_info": {
      "name": "python"
    },
    "accelerator": "GPU"
  },
  "cells": [
    {
      "cell_type": "code",
      "source": [
        "import sys\n",
        "import torch"
      ],
      "metadata": {
        "id": "QS2YnoFqi3XC"
      },
      "execution_count": 1,
      "outputs": []
    },
    {
      "cell_type": "code",
      "source": [
        "! git clone 'https://github.com/alirezaghl/Architectures'\n",
        "%cd Architectures\n",
        "sys.path.append('/content/Architectures/VIT')\n",
        "from model import VIT"
      ],
      "metadata": {
        "id": "9eE7FJsAa6u4"
      },
      "execution_count": null,
      "outputs": []
    },
    {
      "cell_type": "code",
      "source": [
        "net = VIT(image_dim = 32, embed_dim = 512, hidden_dim = 1024, num_channels = 3, num_heads = 8, num_layers = 6, num_classes = 10, patch_size = 4)"
      ],
      "metadata": {
        "id": "_j7HHK2bbHRZ"
      },
      "execution_count": 3,
      "outputs": []
    },
    {
      "cell_type": "code",
      "source": [
        "input = torch.randn(1, 3, 32, 32)\n",
        "output = net(input)\n",
        "output.shape"
      ],
      "metadata": {
        "colab": {
          "base_uri": "https://localhost:8080/"
        },
        "id": "Jf3gaB0-beSr",
        "outputId": "8b6efa2a-562a-4754-bab9-c750a091e69f"
      },
      "execution_count": 4,
      "outputs": [
        {
          "output_type": "execute_result",
          "data": {
            "text/plain": [
              "torch.Size([1, 10])"
            ]
          },
          "metadata": {},
          "execution_count": 4
        }
      ]
    }
  ]
}