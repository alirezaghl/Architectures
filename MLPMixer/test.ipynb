{
  "nbformat": 4,
  "nbformat_minor": 0,
  "metadata": {
    "colab": {
      "provenance": []
    },
    "kernelspec": {
      "name": "python3",
      "display_name": "Python 3"
    },
    "language_info": {
      "name": "python"
    }
  },
  "cells": [
    {
      "cell_type": "code",
      "source": [
        "import sys\n",
        "import torch"
      ],
      "metadata": {
        "id": "fxmT5YktH-qF"
      },
      "execution_count": 1,
      "outputs": []
    },
    {
      "cell_type": "code",
      "source": [
        "! git clone 'https://github.com/alirezaghl/Architectures'\n",
        "%cd Architectures\n",
        "sys.path.append('/content/Architectures/MLPMixer')\n",
        "from model import MLPMixer"
      ],
      "metadata": {
        "colab": {
          "base_uri": "https://localhost:8080/"
        },
        "id": "_-kcMI5pH_du",
        "outputId": "b14044d4-f4b8-4d31-bd5d-68113d4d9a04"
      },
      "execution_count": 2,
      "outputs": [
        {
          "output_type": "stream",
          "name": "stdout",
          "text": [
            "Cloning into 'Architectures'...\n",
            "remote: Enumerating objects: 61, done.\u001b[K\n",
            "remote: Counting objects: 100% (61/61), done.\u001b[K\n",
            "remote: Compressing objects: 100% (47/47), done.\u001b[K\n",
            "remote: Total 61 (delta 28), reused 35 (delta 12), pack-reused 0\u001b[K\n",
            "Receiving objects: 100% (61/61), 60.58 KiB | 2.02 MiB/s, done.\n",
            "Resolving deltas: 100% (28/28), done.\n",
            "/content/Architectures\n"
          ]
        }
      ]
    },
    {
      "cell_type": "code",
      "source": [
        "x = torch.rand(1,3,32,32)\n",
        "mixer = MLPMixer(image_size=32, embed_dim=768, hidden_dim=2048, num_channels=3, num_classes=10, patch_size = 4, num_mixer=3)\n",
        "out = mixer(x)"
      ],
      "metadata": {
        "id": "mZMA3I4S_L9t"
      },
      "execution_count": 3,
      "outputs": []
    },
    {
      "cell_type": "code",
      "source": [
        "out.shape"
      ],
      "metadata": {
        "colab": {
          "base_uri": "https://localhost:8080/"
        },
        "id": "0Zt5Xvcj_Ww0",
        "outputId": "dffe13a0-88ca-4264-99ea-115e7a78f7c0"
      },
      "execution_count": 4,
      "outputs": [
        {
          "output_type": "execute_result",
          "data": {
            "text/plain": [
              "torch.Size([1, 10])"
            ]
          },
          "metadata": {},
          "execution_count": 4
        }
      ]
    }
  ]
}